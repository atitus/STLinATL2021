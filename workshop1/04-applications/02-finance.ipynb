{
 "cells": [
  {
   "cell_type": "markdown",
   "metadata": {},
   "source": [
    "# Modeling in Finance\n",
    "\n",
    "For each question below, write code to solve the problem iteratively.\n"
   ]
  },
  {
   "cell_type": "code",
   "execution_count": null,
   "metadata": {},
   "outputs": [],
   "source": [
    "import numpy as np\n",
    "import matplotlib.pyplot as plt"
   ]
  },
  {
   "cell_type": "markdown",
   "metadata": {},
   "source": [
    "# Exercise 1\n",
    "\n",
    "Suppose I purchase a car for $\\$40,000$, make a down payment of $\\$5,000$, and have an annual percentage rate (APR) of 12% on the loan. If my monthly car payment is $\\$500$ per month and interest is compounded monthly, how long will it take to pay off the loan and what will be the total amount paid for the car?"
   ]
  },
  {
   "cell_type": "code",
   "execution_count": null,
   "metadata": {
    "nbgrader": {
     "grade": true,
     "grade_id": "Ex_1",
     "locked": false,
     "points": 3,
     "schema_version": 3,
     "solution": true,
     "task": false
    }
   },
   "outputs": [],
   "source": [
    "P = 35000 # principal\n",
    "r = 0.12 # interest rate\n",
    "dt = 1/12 # time step in years\n",
    "t = 0\n",
    "Itotal = 0\n",
    "\n",
    "tdata = []\n",
    "Pdata = []\n",
    "Idata = []\n",
    "\n",
    "while P > 0:\n",
    "    I = r*P*dt # interest paid for one month\n",
    "    Ppaid = 500 - I\n",
    "    P  = P - Ppaid\n",
    "    Itotal = Itotal + I\n",
    "\n",
    "    t = t + dt\n",
    "\n",
    "    tdata.append(t)\n",
    "    Pdata.append(Ppaid)\n",
    "    Idata.append(I)\n",
    "\n",
    "print(\"After t = {:.1f} years, P = ${:.2f} and the total interest paid = ${:.2f}.\".format(t, P, Itotal))\n",
    "\n",
    "fig = plt.figure(figsize=(8,6))\n",
    "plt.title(\"Loan\")\n",
    "plt.xlabel('time (y)')\n",
    "plt.ylabel('principal (US dollar)')\n",
    "plt.plot(tdata, Pdata, 'b-', label = 'principal paid per month')\n",
    "plt.plot(tdata, Idata, 'r-', label = 'interest paid per month')\n",
    "plt.legend()\n",
    "plt.grid(which='both', axis='both')\n",
    "plt.show()"
   ]
  },
  {
   "cell_type": "markdown",
   "metadata": {},
   "source": [
    "# Exercise 2\n",
    "\n",
    "You buy a house and take out a $\\$300,000$ loan to be paid over 30 years with a 5% annual percentage rate, compounded monthly.\n",
    "\n",
    "  1. What is your monthly payment?\n",
    "  2. Financial advisors recommend making a 13th payment at the end of each year, all of which is applied to the principal of the loan. If you do this, how long will it take to pay off the loan and how much money will you save?"
   ]
  },
  {
   "cell_type": "markdown",
   "metadata": {},
   "source": [
    "The program below was used to find the monthly payment."
   ]
  },
  {
   "cell_type": "code",
   "execution_count": null,
   "metadata": {
    "nbgrader": {
     "grade": true,
     "grade_id": "Ex_2",
     "locked": false,
     "points": 3,
     "schema_version": 3,
     "solution": true,
     "task": false
    }
   },
   "outputs": [],
   "source": [
    "P = 300000\n",
    "r = 0.05\n",
    "dt = 1/12\n",
    "t = 0\n",
    "Itotal = 0\n",
    "\n",
    "tdata = []\n",
    "Pdata = []\n",
    "Idata = []\n",
    "\n",
    "month = 0\n",
    "\n",
    "while t<29.99:\n",
    "    I = r *P*dt #interest paid for one month\n",
    "    Ppaid = 1611 - I\n",
    "    P  = P - Ppaid\n",
    "    Itotal = Itotal + I\n",
    "\n",
    "    t = t + dt\n",
    "    month = month + 1\n",
    "\n",
    "    tdata.append(t)\n",
    "    Pdata.append(Ppaid)\n",
    "    Idata.append(I)\n",
    "\n",
    "print(\"After t = {:.2f} years, P = ${:.2f} and the total interest paid = ${:.2f}.\".format(t, P, Itotal))\n",
    "\n",
    "fig = plt.figure()\n",
    "plt.title(\"Loan\")\n",
    "plt.xlabel('time (y)')\n",
    "plt.ylabel('principal (US dollar)')\n",
    "plt.plot(tdata, Pdata, 'b-', label='principal paid per month')\n",
    "plt.plot(tdata, Idata, 'r-', label='principal paid per month')\n",
    "plt.legend()\n",
    "plt.grid(which='both', axis='both')\n",
    "plt.show()"
   ]
  },
  {
   "cell_type": "markdown",
   "metadata": {},
   "source": [
    "The program below applies an additional payment of $1611 to the principal."
   ]
  },
  {
   "cell_type": "code",
   "execution_count": null,
   "metadata": {},
   "outputs": [],
   "source": [
    "P = 300000\n",
    "r = 0.05\n",
    "dt = 1/12\n",
    "t = 0\n",
    "Itotal = 0\n",
    "\n",
    "tdata = []\n",
    "Pdata = []\n",
    "Idata = []\n",
    "\n",
    "month = 0\n",
    "\n",
    "while P>0:\n",
    "    I = r *P*dt #interest paid for one month\n",
    "    Ppaid = 1611 - I\n",
    "    P  = P - Ppaid\n",
    "    Itotal = Itotal + I\n",
    "\n",
    "    t = t + dt\n",
    "    month = month + 1\n",
    "\n",
    "    if month>11:\n",
    "      P = P - 1611\n",
    "      month = 0\n",
    "\n",
    "    tdata.append(t)\n",
    "    Pdata.append(Ppaid)\n",
    "    Idata.append(I)\n",
    "\n",
    "print(\"After t = {:.2f} years, P = ${:.2f} and the total interest paid = ${:.2f}.\".format(t, P, Itotal))\n",
    "\n",
    "fig = plt.figure()\n",
    "plt.title(\"Loan\")\n",
    "plt.xlabel('time (y)')\n",
    "plt.ylabel('principal (US dollar)')\n",
    "plt.plot(tdata, Pdata, 'b-')\n",
    "plt.plot(tdata, Idata, 'r-')\n",
    "plt.grid(which='both', axis='both')\n",
    "plt.show()"
   ]
  },
  {
   "cell_type": "markdown",
   "metadata": {},
   "source": [
    "# Exercise 3\n",
    "\n",
    "This is an open-ended question that requires you to make assumptions, and making assumptions is an integral part of *modeling*.\n",
    "\n",
    "You are evaluating your retirement. At 25 years old, you invest monthly into an IRA (Individual Retirement Account) with an average 7% interest rate per year. After your retirement age, you want to live solely on that investment. What is the minimum age you can retire if you die with exactly zero dollars left in your investment?\n",
    "\n",
    "1. Talk to your classmates and write a list of assumptions you will make. At first, it's best to keep your assumptions simple, yet realistic.\n",
    "\n",
    "2. Describe in words (an outline form is fine) what calculations your code must do. This is called *pseudocode*. You are describing the logic but not writing code.\n",
    "\n",
    "3. After discussion, write code to solve the problem. Keep it simple and check that it works along the way. Define variables needed and use variables in your calculations. This allows you to explore your model by adjusting the values of the variables."
   ]
  },
  {
   "cell_type": "code",
   "execution_count": null,
   "metadata": {},
   "outputs": [],
   "source": [
    "P_invest = 1500 #retirment savings per month\n",
    "P_spend = 0 #how much you spend out of retirement per month\n",
    "age_death = 80\n",
    "monthly_expenses = 5000 #money you pull out of savings after retirement\n",
    "r = 0.07 #interest rate per year\n",
    "\n",
    "t = 25\n",
    "dt = 1/12\n",
    "\n",
    "age_retire = 45.1\n",
    "\n",
    "P = 0\n",
    "\n",
    "tdata = []\n",
    "Pdata = []\n",
    "\n",
    "while t < age_death:\n",
    "\n",
    "  if t>age_retire:\n",
    "    P_invest = 0 #stop depositing into your retirement account\n",
    "    P_spend = monthly_expenses #start withdrawing out of your retirement account\n",
    "\n",
    "  I = r*P*dt\n",
    "  P = P + I + P_invest - P_spend\n",
    "  t = t + dt\n",
    "\n",
    "  tdata.append(t)\n",
    "  Pdata.append(P)\n",
    "\n",
    "plt.figure()\n",
    "plt.title(\"Retirement Savings\")\n",
    "plt.xlabel(\"t (y)\")\n",
    "plt.ylabel(\"Savings (US Dollars)\")\n",
    "plt.plot(tdata,Pdata,'b-')\n",
    "plt.grid(which='both', axis='both')\n",
    "plt.show()\n",
    "\n",
    "print(\"Total amount of money at death = \", P)"
   ]
  },
  {
   "cell_type": "markdown",
   "metadata": {},
   "source": [
    "# Exercise 4\n",
    "\n",
    "How can you make your model in Excercise 3 more realistic? Choose one way to modify the model. Describe the modification to your model, and describe the difference in the predictions before and after you changed the model."
   ]
  },
  {
   "cell_type": "markdown",
   "metadata": {
    "nbgrader": {
     "grade": true,
     "grade_id": "Ex_3",
     "locked": false,
     "points": 4,
     "schema_version": 3,
     "solution": true,
     "task": false
    }
   },
   "source": [
    "If your monthly salary increases, then the amount you invest per month in your retirement account also increases. Suppose your salary increases at 2% per year. Then, the amount you can save in retirement might increase at the same rate. Using the values in the previous program, we can find the new retirement age."
   ]
  },
  {
   "cell_type": "code",
   "execution_count": null,
   "metadata": {},
   "outputs": [],
   "source": [
    "P_invest = 1500 #retirment savings per month\n",
    "r_invest = 0.02 #retirement savings increase per year\n",
    "P_spend = 0 #how much you spend out of retirement per month\n",
    "age_death = 80\n",
    "monthly_expenses = 5000 #money you pull out of savings after retirement\n",
    "r = 0.07 #interest rate per year\n",
    "\n",
    "t = 25\n",
    "dt = 1/12\n",
    "\n",
    "age_retire = 43.6\n",
    "\n",
    "P = 0\n",
    "\n",
    "tdata = []\n",
    "Pdata = []\n",
    "\n",
    "while t < age_death:\n",
    "\n",
    "  if t>age_retire:\n",
    "    P_invest = 0 #stop depositing into your retirement account\n",
    "    P_spend = monthly_expenses #start withdrawing out of your retirement account\n",
    "\n",
    "  P_invest = P_invest + r_invest*P_invest*dt #increase the investment with an average growth rate r_invest\n",
    "\n",
    "  I = r*P*dt\n",
    "  P = P + I + P_invest - P_spend\n",
    "  t = t + dt\n",
    "\n",
    "  tdata.append(t)\n",
    "  Pdata.append(P)\n",
    "\n",
    "plt.figure()\n",
    "plt.title(\"Retirement Savings\")\n",
    "plt.xlabel(\"t (y)\")\n",
    "plt.ylabel(\"Savings (US Dollars)\")\n",
    "plt.plot(tdata,Pdata,'b-')\n",
    "plt.grid(which='both', axis='both')\n",
    "plt.show()\n",
    "\n",
    "print(\"Total amount of money at death = \", P)"
   ]
  },
  {
   "cell_type": "markdown",
   "metadata": {},
   "source": [
    "With a constant investment amount per month, retirement age is 45.1 years old. With a 2% increase per year in the amount saved in a retirement account (compounded monthly), the retirement age is 43.6 years old. Accounting for the 2% increase in savings per month results in a decrease of 1.5 years in the minimum retirement age."
   ]
  },
  {
   "cell_type": "code",
   "execution_count": null,
   "metadata": {},
   "outputs": [],
   "source": []
  }
 ],
 "metadata": {
  "celltoolbar": "Create Assignment",
  "kernelspec": {
   "display_name": "Python 3",
   "language": "python",
   "name": "python3"
  },
  "language_info": {
   "codemirror_mode": {
    "name": "ipython",
    "version": 3
   },
   "file_extension": ".py",
   "mimetype": "text/x-python",
   "name": "python",
   "nbconvert_exporter": "python",
   "pygments_lexer": "ipython3",
   "version": "3.7.7"
  }
 },
 "nbformat": 4,
 "nbformat_minor": 4
}
