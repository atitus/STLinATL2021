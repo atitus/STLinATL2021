{
 "cells": [
  {
   "cell_type": "markdown",
   "metadata": {},
   "source": [
    "# The Tarzan Problem\n",
    "\n",
    "### inspired by Tom Ehrensperger\n",
    "\n",
    "Tarzan swings on a vine, starting from rest at an initial angle $\\theta_i$ with respect to the vertical. What starting angle should Tarzan use in order to have the greatest average horizontal speed?"
   ]
  },
  {
   "cell_type": "markdown",
   "metadata": {},
   "source": [
    "## The Model\n",
    "\n",
    "Treat Tarzan and the vine like a pendulum composed of a lightweight rigid rod of length $R$ and a small-radius ball of mass $m$. The pendulum rotates about the origin at an angle $\\theta$ defined with respect to the vertical.\n",
    "\n",
    "![](https://raw.githubusercontent.com/atitus/STLinATL2021/main/workshop1/04-applications/pendulum.png)\n",
    "\n",
    "<font size=-1>(image credit: Ruth Chabay and Bruce Sherwood)</font>\n",
    "\n",
    "The angular acceleration is in the z-direction and is equal to\n",
    "\n",
    "$$\\alpha_z = -\\frac{g}{R}\\sin(\\theta)$$\n",
    "\n",
    "The angular acceleration is the rate of change of the angular velocity. After a small time interval $\\Delta t$, the new angular velocity in the z-direction is\n",
    "\n",
    "$$\\omega_{z,f} = \\omega_{z,i} + \\alpha_z \\Delta t$$\n",
    "\n",
    "The angular velocity is the rate of change of the angular position $\\theta$. After a small time interval $\\Delta t$, the new angular position is\n",
    "\n",
    "$$\\theta_f = \\theta_i + \\omega_{z,ave} \\Delta t$$\n",
    "\n",
    "We will approximate $\\omega_{z,ave}$ by using $\\omega_{z,f}$."
   ]
  },
  {
   "cell_type": "markdown",
   "metadata": {},
   "source": [
    "## Calculating average x-velocity during one swing\n",
    "\n",
    "As Tarzan swings on the vine from one side of the vertical to the same angle on the other side, his average x-velocity is his x-displacement divided by the time interval:\n",
    "\n",
    "$$v_{x,ave} = \\frac{\\Delta x}{\\Delta t}$$\n",
    "\n",
    "The x-displacement, if swinging to the right (counterclockwise), is $\\Delta x=2R\\sin(|\\theta_i|)$. But we don't know the time interval. We have to model the motion in order to find the time interval for half an oscillation."
   ]
  },
  {
   "cell_type": "markdown",
   "metadata": {},
   "source": [
    "## Initial conditions\n",
    "\n",
    "Let's start with a 30-m length of vine and an initial angle of $-30^\\circ$. It's negative because we will assume Tarzan swings to the right, with a poxitive x-velocity. The initial angular velocity is $\\omega_z=0$ since Tarzan starts from rest.\n",
    "\n",
    "Note that if Tarzan is swinging counterclockwise (i.e. traveling to the right), then $\\omega_z$ is positive."
   ]
  },
  {
   "cell_type": "markdown",
   "metadata": {},
   "source": [
    "## Starting Program\n",
    "\n",
    "Here is a starting program that defines variables. But it's missing the **model** to calculate `alpha`, `omega` and `theta` inside the `while` loop. Read the program and try to understand what the variables mean. Then add code to calculate `alpha`, `omega` and `theta` inside the `while` loop."
   ]
  },
  {
   "cell_type": "code",
   "execution_count": 31,
   "metadata": {},
   "outputs": [
    {
     "name": "stdout",
     "output_type": "stream",
     "text": [
      "Average x-velocity = 24.65 m/s\n"
     ]
    }
   ],
   "source": [
    "# import libraries\n",
    "import numpy as np\n",
    "import matplotlib.pyplot as plt\n",
    "\n",
    "g = 10 #N/kg Earth's gravitational field strength\n",
    "R = 10 #m  Length of vine\n",
    "theta = -80*np.pi/180 #rad, angle of vine\n",
    "omega = 0 #rad/s, angular velocity of vine in z-direction\n",
    "\n",
    "#dependent variable\n",
    "t = 0 #s, time\n",
    "dt = 0.0001 #s, time interval\n",
    "\n",
    "#initialize lists for storing data\n",
    "tdata = []\n",
    "thetadata = []\n",
    "\n",
    "#store initial values at t = 0\n",
    "tdata.append(t)\n",
    "thetadata.append(theta)\n",
    "\n",
    "#iterate\n",
    "while omega>=0:\n",
    "    \n",
    "    #####################\n",
    "    # your model; calculate alpha and update the values of omega and theta\n",
    "    alpha = -2*R*np.sin(theta)\n",
    "    omega = omega + alpha*dt\n",
    "    theta = theta + omega*dt\n",
    "    #####################\n",
    "    \n",
    "    # update time\n",
    "    t = t + dt\n",
    "        \n",
    "    #store values\n",
    "    tdata.append(t)\n",
    "    thetadata.append(theta)\n",
    "\n",
    "# calculate average x-velocity and print result\n",
    "dx_total = 2*R*np.sin(theta) #m, total x-displacement in one \"swing\" from left to right\n",
    "t_total = t #s, total time\n",
    "vxave = dx_total/t_total\n",
    "print(\"Average x-velocity = {:.2f} m/s\".format(vxave))"
   ]
  },
  {
   "cell_type": "markdown",
   "metadata": {},
   "source": [
    "## Exercise 1 - Solve the Problem\n",
    "\n",
    "Adjust the starting angle. What starting angle gives Tarzan the greatest average x-velocity during one swing?"
   ]
  },
  {
   "cell_type": "code",
   "execution_count": null,
   "metadata": {},
   "outputs": [],
   "source": []
  },
  {
   "cell_type": "markdown",
   "metadata": {},
   "source": [
    "## Exercise 2 - Compare to the 1/2 Period of a Pendulum\n",
    "\n",
    "The period of a pendulum *for small angle oscillations* is\n",
    "\n",
    "$$T = 2\\pi \\sqrt{\\frac{L}{g}}$$\n",
    "\n",
    "where $L$ is the length of the pendulum, which we called $R$ in the code above. This equation is only valid *for small angle oscillations*. If you use this equation and calculate the time for Tarzan's swing at the angle found in Exercise 1, how does it compare to the actual total time? \n",
    "\n",
    "Note: the period equation is for a fully oscillation, but Tarzan's swing is half an oscillation. Also, you should print the total time in your program above in order to compare it to the time you calculate using the period equation. Use code for all calculations."
   ]
  },
  {
   "cell_type": "code",
   "execution_count": null,
   "metadata": {},
   "outputs": [],
   "source": []
  },
  {
   "cell_type": "markdown",
   "metadata": {},
   "source": [
    "## Exercise 3 - Reflection\n",
    "\n",
    "Based on your answer to Exercise 2, why is important to use an iterative approach (i.e. calculate $\\alpha_z$, $\\theta$, and $\\omega_z$ after each small time step) to solve this problem?"
   ]
  },
  {
   "cell_type": "code",
   "execution_count": null,
   "metadata": {},
   "outputs": [],
   "source": []
  },
  {
   "cell_type": "markdown",
   "metadata": {},
   "source": [
    "## Exercise 4 - Interpret Graph and Extend Code\n",
    "\n",
    "Here is a graph of $\\theta$ as a function of time for one swing. Ask another student or lab group to challenge you by giving you a variable to calculate and graph. Then, edit your program to calculate and graph the variable, and explain or describe the resulting graph.\n",
    "\n",
    "To graph a variable, you should first create a list for that variable and then calculate the variable inside the loop and store its value in the list."
   ]
  },
  {
   "cell_type": "code",
   "execution_count": 32,
   "metadata": {},
   "outputs": [
    {
     "data": {
      "image/png": "[encoded data removed]",
      "text/plain": [
       "<Figure size 432x288 with 1 Axes>"
      ]
     },
     "metadata": {
      "needs_background": "light"
     },
     "output_type": "display_data"
    }
   ],
   "source": [
    "fig = plt.figure()\n",
    "plt.title(\"Tarzan on a vine (one swing)\")\n",
    "plt.plot(tdata,thetadata, 'b-')\n",
    "plt.xlabel('t (s)')\n",
    "plt.ylabel('$\\\\theta$ (rad)')\n",
    "plt.show()"
   ]
  },
  {
   "cell_type": "code",
   "execution_count": null,
   "metadata": {},
   "outputs": [],
   "source": []
  }
 ],
 "metadata": {
  "kernelspec": {
   "display_name": "Python 3",
   "language": "python",
   "name": "python3"
  },
  "language_info": {
   "codemirror_mode": {
    "name": "ipython",
    "version": 3
   },
   "file_extension": ".py",
   "mimetype": "text/x-python",
   "name": "python",
   "nbconvert_exporter": "python",
   "pygments_lexer": "ipython3",
   "version": "3.7.7"
  }
 },
 "nbformat": 4,
 "nbformat_minor": 4
}
